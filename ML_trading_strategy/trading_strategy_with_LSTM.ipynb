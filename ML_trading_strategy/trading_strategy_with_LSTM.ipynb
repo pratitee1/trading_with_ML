{
 "cells": [
  {
   "cell_type": "markdown",
   "id": "7de491f0-2f5d-46d3-b100-eae6e96086f2",
   "metadata": {},
   "source": [
    "# Backtesting trading strategy\n",
    "#### Strategy: Select top k stocks based on the predicted probabilities by the trained LSTM model.\n",
    "#### Metric: Accuracy (accuracy greater than 50% can be profitable with high-frequency trading due to the stock market volatility)\n",
    "#### Test period: 20 days (model needs retraining for future days by a rolling window training approach)"
   ]
  },
  {
   "cell_type": "markdown",
   "id": "4efed4d2-0afe-4a8b-8efd-a92155a12fca",
   "metadata": {},
   "source": [
    "**Load modules**"
   ]
  },
  {
   "cell_type": "code",
   "execution_count": 1,
   "id": "f5e5b3a6-d3f9-4b92-a6c0-34c73f08896b",
   "metadata": {},
   "outputs": [
    {
     "name": "stderr",
     "output_type": "stream",
     "text": [
      "2025-02-12 21:26:45.007337: I tensorflow/core/platform/cpu_feature_guard.cc:210] This TensorFlow binary is optimized to use available CPU instructions in performance-critical operations.\n",
      "To enable the following instructions: AVX2 FMA, in other operations, rebuild TensorFlow with the appropriate compiler flags.\n",
      "2025-02-12 21:26:46.045311: W tensorflow/compiler/tf2tensorrt/utils/py_utils.cc:38] TF-TRT Warning: Could not find TensorRT\n"
     ]
    }
   ],
   "source": [
    "import pandas as pd\n",
    "import numpy as np\n",
    "import tensorflow as tf\n",
    "from tensorflow.keras.metrics import Precision, Recall, AUC\n",
    "from tensorflow.keras.models import load_model\n",
    "from sklearn.metrics import precision_score, recall_score, f1_score, roc_auc_score, roc_curve, accuracy_score\n",
    "from sklearn.metrics import matthews_corrcoef\n",
    "import matplotlib.pyplot as plt\n",
    "import pickle\n",
    "import os"
   ]
  },
  {
   "cell_type": "markdown",
   "id": "f39d27a3-e94e-414e-9834-a7129e49bd77",
   "metadata": {},
   "source": [
    "**Create the LSTM test dataset with selected technical indicators**"
   ]
  },
  {
   "cell_type": "code",
   "execution_count": 2,
   "id": "8d975480-4a49-4c19-96a0-4287cd862be5",
   "metadata": {},
   "outputs": [],
   "source": [
    "features_list = ['vol_adj_rtn_12m', 'd130_min_rtn', 'stochastic_k', 'stochastic_d', 'stochastic_k_20', 'stochastic_d_20',\n",
    "       'adj_sto_6m_k', 'adj_sto_6m_d', 'std_dev_20', 'stderr_180d', 'ann_vol_1m', 'ann_vol_12m', 'vol_signal_5d', 'vol_signal_50d',\n",
    "       'm24_res_rtn_var', 'd90_cv', 'd60_cv', 'vol_style', 'pm_1m', 'pm_5d', 'pm_6m', 'pm_9m', 'pm_12m', 'pm_12m1m', 'prc_to_260dl', \n",
    "        'prc_to_52wh', 'pratio_15_36w', 'ratio_50_to_200', 'pm_style', 'pa52wl20dlag', 'w39_rtn_lag4w', 'osc_4to52w_prc', 'hl_1m', \n",
    "        'hl_52w', 'log_unadj_price', 'rsi_14', 'rsi_26w', 'd10_macd', 'd10_macd_signal', 'slope_52w', 'pslope_serr_26w', 'sma_10',\n",
    "        'sma_50', 'sma_200', 'bollinger_upper', 'bollinger_middle', 'bollinger_lower', 'adx', 'd5_money_flow', 'd5_money_flow_vol', \n",
    "        'amihud', 'chg_1y_amihud', 'obv', 'beta_60m', 'alpha_60m', 'alpha_18m_6mchg', 'alpha_12m_6mchg', 'alpha_36m_6mchg', \n",
    "        'rel_pr_str_12m', 'sharpe_60d']"
   ]
  },
  {
   "cell_type": "code",
   "execution_count": 3,
   "id": "1193abee-7ce7-4e80-a12a-e14c0f864793",
   "metadata": {},
   "outputs": [],
   "source": [
    "year = 2022\n",
    "counter = 1\n",
    "data_dir = os.path.join(\"../data\", str(year))\n",
    "test_data_labelled_path = os.path.join(data_dir, f\"LSTM_test_{counter}.pkl\")\n",
    "test_data_labelled = pd.read_pickle(test_data_labelled_path)\n",
    "test_data_labelled = test_data_labelled[test_data_labelled['date']>'2022-01-1']"
   ]
  },
  {
   "cell_type": "code",
   "execution_count": 4,
   "id": "7758c28b-cc9a-47a4-9c73-bc35d0f053c3",
   "metadata": {},
   "outputs": [],
   "source": [
    "def create_lstm_test_dataset(df, feature_list, sequence_length=15):\n",
    "    X, y, metadata = [], [], [] \n",
    "    for _, stock_data in df.groupby('ticker', group_keys=False):\n",
    "        stock_data = stock_data.reset_index(drop=True)\n",
    "        feature_array = stock_data[feature_list].values\n",
    "        label_array = stock_data['label'].values\n",
    "        for i in range(len(stock_data) - sequence_length):\n",
    "            X.append(feature_array[i:i+sequence_length])  \n",
    "            y.append(label_array[i + sequence_length]) \n",
    "            metadata.append(stock_data.iloc[i + sequence_length][['date', 'ticker', 'open', 'high', 'low', 'close', 'return', 'adj_close', 'sp500_close', 'sp500_return', 'risk_free_rate', 'return3D', 'label']].values)\n",
    "    return np.array(X, dtype=np.float32), np.array(y, dtype=np.int8), pd.DataFrame(metadata, columns=['date', 'ticker', 'open', 'high', 'low', 'close', 'return', 'adj_close', 'sp500_close', 'sp500_return', 'risk_free_rate', 'return3D', 'label'])\n",
    "X_test, y_test, metadata_test = create_lstm_test_dataset(test_data_labelled, features_list)"
   ]
  },
  {
   "cell_type": "markdown",
   "id": "03bd110e-6184-4f14-8b71-1fe073af8769",
   "metadata": {},
   "source": [
    "**Load the trained model**"
   ]
  },
  {
   "cell_type": "code",
   "execution_count": 5,
   "id": "fe40c6b8-a3fd-44ac-9051-60cd3b06a688",
   "metadata": {},
   "outputs": [
    {
     "name": "stderr",
     "output_type": "stream",
     "text": [
      "2025-02-12 21:26:48.796348: I external/local_xla/xla/stream_executor/cuda/cuda_executor.cc:998] successful NUMA node read from SysFS had negative value (-1), but there must be at least one NUMA node, so returning NUMA node zero. See more at https://github.com/torvalds/linux/blob/v6.0/Documentation/ABI/testing/sysfs-bus-pci#L344-L355\n",
      "2025-02-12 21:26:48.820716: I external/local_xla/xla/stream_executor/cuda/cuda_executor.cc:998] successful NUMA node read from SysFS had negative value (-1), but there must be at least one NUMA node, so returning NUMA node zero. See more at https://github.com/torvalds/linux/blob/v6.0/Documentation/ABI/testing/sysfs-bus-pci#L344-L355\n",
      "2025-02-12 21:26:48.820966: I external/local_xla/xla/stream_executor/cuda/cuda_executor.cc:998] successful NUMA node read from SysFS had negative value (-1), but there must be at least one NUMA node, so returning NUMA node zero. See more at https://github.com/torvalds/linux/blob/v6.0/Documentation/ABI/testing/sysfs-bus-pci#L344-L355\n",
      "2025-02-12 21:26:48.822135: I external/local_xla/xla/stream_executor/cuda/cuda_executor.cc:998] successful NUMA node read from SysFS had negative value (-1), but there must be at least one NUMA node, so returning NUMA node zero. See more at https://github.com/torvalds/linux/blob/v6.0/Documentation/ABI/testing/sysfs-bus-pci#L344-L355\n",
      "2025-02-12 21:26:48.822347: I external/local_xla/xla/stream_executor/cuda/cuda_executor.cc:998] successful NUMA node read from SysFS had negative value (-1), but there must be at least one NUMA node, so returning NUMA node zero. See more at https://github.com/torvalds/linux/blob/v6.0/Documentation/ABI/testing/sysfs-bus-pci#L344-L355\n",
      "2025-02-12 21:26:48.822486: I external/local_xla/xla/stream_executor/cuda/cuda_executor.cc:998] successful NUMA node read from SysFS had negative value (-1), but there must be at least one NUMA node, so returning NUMA node zero. See more at https://github.com/torvalds/linux/blob/v6.0/Documentation/ABI/testing/sysfs-bus-pci#L344-L355\n",
      "2025-02-12 21:26:48.878776: I external/local_xla/xla/stream_executor/cuda/cuda_executor.cc:998] successful NUMA node read from SysFS had negative value (-1), but there must be at least one NUMA node, so returning NUMA node zero. See more at https://github.com/torvalds/linux/blob/v6.0/Documentation/ABI/testing/sysfs-bus-pci#L344-L355\n",
      "2025-02-12 21:26:48.878992: I external/local_xla/xla/stream_executor/cuda/cuda_executor.cc:998] successful NUMA node read from SysFS had negative value (-1), but there must be at least one NUMA node, so returning NUMA node zero. See more at https://github.com/torvalds/linux/blob/v6.0/Documentation/ABI/testing/sysfs-bus-pci#L344-L355\n",
      "2025-02-12 21:26:48.879119: I external/local_xla/xla/stream_executor/cuda/cuda_executor.cc:998] successful NUMA node read from SysFS had negative value (-1), but there must be at least one NUMA node, so returning NUMA node zero. See more at https://github.com/torvalds/linux/blob/v6.0/Documentation/ABI/testing/sysfs-bus-pci#L344-L355\n",
      "2025-02-12 21:26:48.879209: I tensorflow/core/common_runtime/gpu/gpu_device.cc:1928] Created device /job:localhost/replica:0/task:0/device:GPU:0 with 3359 MB memory:  -> device: 0, name: Quadro P520, pci bus id: 0000:6c:00.0, compute capability: 6.1\n"
     ]
    }
   ],
   "source": [
    "model_path = os.path.join(data_dir, f\"LSTM_model_{counter}_3D.keras\")\n",
    "with tf.device('/CPU:0'):\n",
    "    model = tf.keras.models.load_model(model_path)"
   ]
  },
  {
   "cell_type": "code",
   "execution_count": 6,
   "id": "b5da76b0-2773-47c7-8fe5-f64492cca4cb",
   "metadata": {},
   "outputs": [
    {
     "name": "stdout",
     "output_type": "stream",
     "text": [
      "\u001b[1m62/62\u001b[0m \u001b[32m━━━━━━━━━━━━━━━━━━━━\u001b[0m\u001b[37m\u001b[0m \u001b[1m1s\u001b[0m 9ms/step   \n"
     ]
    }
   ],
   "source": [
    "with tf.device('/CPU:0'):\n",
    "    y_pred_probs = model.predict(X_test) "
   ]
  },
  {
   "cell_type": "markdown",
   "id": "c6b7b92a-624d-490d-8919-6d94ef705956",
   "metadata": {},
   "source": [
    "**Compute metrics on the test set and plot ROC curve**"
   ]
  },
  {
   "cell_type": "code",
   "execution_count": 7,
   "id": "a94640bd-c32e-4472-8e80-03cdaa9e0f74",
   "metadata": {},
   "outputs": [
    {
     "name": "stdout",
     "output_type": "stream",
     "text": [
      "Accuracy: 0.5543\n",
      "Precision: 0.5493\n",
      "Recall: 0.6051\n",
      "F1 Score: 0.5758\n",
      "ROC AUC: 0.5543\n",
      "MCC Score: 0.1092\n"
     ]
    },
    {
     "data": {
      "image/png": "[encoded data removed]",
      "text/plain": [
       "<Figure size 500x500 with 1 Axes>"
      ]
     },
     "metadata": {},
     "output_type": "display_data"
    }
   ],
   "source": [
    "y_pred = (y_pred_probs > 0.5).astype(int) \n",
    "\n",
    "accuracy = accuracy_score(y_test, y_pred)\n",
    "precision = precision_score(y_test, y_pred)\n",
    "recall = recall_score(y_test, y_pred)\n",
    "f1 = f1_score(y_test, y_pred)\n",
    "auc = roc_auc_score(y_test, y_pred)\n",
    "mcc = matthews_corrcoef(y_test, y_pred)\n",
    "print(f\"Accuracy: {accuracy:.4f}\")\n",
    "print(f\"Precision: {precision:.4f}\")\n",
    "print(f\"Recall: {recall:.4f}\")\n",
    "print(f\"F1 Score: {f1:.4f}\")\n",
    "print(f\"ROC AUC: {auc:.4f}\")\n",
    "print(f\"MCC Score: {mcc:.4f}\")\n",
    "\n",
    "fpr, tpr, _ = roc_curve(y_test, y_pred_probs)\n",
    "plt.figure(figsize=(5,5))\n",
    "plt.plot(fpr, tpr, label=f\"ROC Curve (AUC = {auc:.4f})\", color='green')\n",
    "plt.plot([0,1], [0,1], linestyle='--', color='blue') \n",
    "plt.xlabel(\"False Positive Rate\")\n",
    "plt.ylabel(\"True Positive Rate\")\n",
    "plt.title(\"ROC Curve\")\n",
    "plt.legend()\n",
    "plt.show()"
   ]
  },
  {
   "cell_type": "markdown",
   "id": "37037a02-0e0a-4484-ab52-6a6670f91e2c",
   "metadata": {},
   "source": [
    "**Measure excess return = return obtained by selecting top k stocks - return obtained by selecting all stocks which is equivalent to S&P500 returns (ignoring de-listed stocks)**"
   ]
  },
  {
   "cell_type": "code",
   "execution_count": 8,
   "id": "672e6efc-7a06-4df4-9a4a-36cfd47c8b9c",
   "metadata": {},
   "outputs": [],
   "source": [
    "test_df = pd.DataFrame({\n",
    "    \"date\": metadata_test[\"date\"].values,  \n",
    "    \"ticker\": metadata_test[\"ticker\"].values,\n",
    "    \"risk_free_rate\": metadata_test[\"risk_free_rate\"].values,\n",
    "    \"return3D\": metadata_test[\"return3D\"].values,\n",
    "    \"label\": metadata_test[\"label\"].values,\n",
    "    \"pred_prob\": y_pred_probs.flatten()\n",
    "})"
   ]
  },
  {
   "cell_type": "code",
   "execution_count": 9,
   "id": "8ff45dbf-5f28-4599-b492-5dc3d1015493",
   "metadata": {},
   "outputs": [],
   "source": [
    "dates_list = test_df['date'].unique()\n",
    "top_stock_return_list = []\n",
    "all_stock_return_list = []\n",
    "for d in dates_list:\n",
    "    day_df = test_df[test_df['date']==d]\n",
    "    all_stock_return_list.append(day_df['return3D'].mean())\n",
    "    top_stocks = day_df.nlargest(1, 'pred_prob')\n",
    "    top_stock_return_list.append(top_stocks['return3D'].mean())"
   ]
  },
  {
   "cell_type": "code",
   "execution_count": 10,
   "id": "39edc58b-55b8-4ccd-9654-337a2ae8f66a",
   "metadata": {},
   "outputs": [
    {
     "name": "stdout",
     "output_type": "stream",
     "text": [
      "Excess return S&P500:  11.488841260070021 %\n"
     ]
    }
   ],
   "source": [
    "excess_return = sum(top_stock_return_list) - sum(all_stock_return_list)\n",
    "print(\"Excess return S&P500: \", excess_return*100, '%')"
   ]
  },
  {
   "cell_type": "code",
   "execution_count": null,
   "id": "f875ad85-8357-4df7-96da-72884198a835",
   "metadata": {},
   "outputs": [],
   "source": []
  }
 ],
 "metadata": {
  "kernelspec": {
   "display_name": "Python 3 (ipykernel)",
   "language": "python",
   "name": "python3"
  },
  "language_info": {
   "codemirror_mode": {
    "name": "ipython",
    "version": 3
   },
   "file_extension": ".py",
   "mimetype": "text/x-python",
   "name": "python",
   "nbconvert_exporter": "python",
   "pygments_lexer": "ipython3",
   "version": "3.10.9"
  }
 },
 "nbformat": 4,
 "nbformat_minor": 5
}
